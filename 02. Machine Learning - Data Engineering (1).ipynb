{
 "cells": [
  {
   "cell_type": "markdown",
   "id": "658325d3-c562-4b46-adb6-18f77013e08e",
   "metadata": {},
   "source": [
    "# Notebook 2: Data Engineering\n",
    "\n",
    "<font color='red'>**Wichtig**:  \n",
    "Dieses Notebook muss spätestens am Donnerstag den **11.11.2021** über die zugehörige Aufgabe auf Moodle abgegeben werden.</font>\\\n",
    "**Kompilieren** Sie vor der Abgabe das Notebook noch einmal **komplett** und speichern Sie es dann ab (_Kernel_ --> _Restart Kernel and Run All Cells_).\\\n",
    "Bevor Sie Ihr bearbeitetes Notebook hochladen, **benennen** Sie das Dokument bitte wie folgt: **_Nachname_Matrikelnr_Notebooknr.ipynb_**\n",
    "\n",
    "Führen Sie nun nach und nach den unten stehenden Code aus."
   ]
  },
  {
   "cell_type": "markdown",
   "id": "541c7ec0-7b17-488f-8ffb-dae79e9ec198",
   "metadata": {},
   "source": [
    "## Import gebräuchlicher Bibliotheken"
   ]
  },
  {
   "cell_type": "code",
   "execution_count": null,
   "id": "c8cfb630-0a10-4a2b-8256-15a83326c5cb",
   "metadata": {},
   "outputs": [],
   "source": [
    "import numpy as np\n",
    "import matplotlib.pyplot as plt\n",
    "# Zeigt Plots direkt im Notebook an:\n",
    "%matplotlib inline\n",
    "import pandas as pd\n",
    "import sklearn as sk"
   ]
  },
  {
   "cell_type": "markdown",
   "id": "a31f3636-7bb9-4f2f-969b-a68e60251bb2",
   "metadata": {},
   "source": [
    "Insbesondere Pandas DataFrames sind sehr praktisch für den Umgang mit tabellularen Daten.\n",
    "Eine kleine Einführung in Pandas ist z.B. hier zu finden:\\\n",
    "https://www.python-kurs.eu/pandas.php"
   ]
  },
  {
   "cell_type": "markdown",
   "id": "c11fc9db-9c36-48ee-8f41-05d88158900b",
   "metadata": {},
   "source": [
    "## Anwendung: California Housing Dataset\n",
    "\n",
    "Als Beispieldaten werden wir auf einer Kopie des **California Housing Dataset** arbeiten, welcher 1990 vom US Census erhoben wurde. Der Datensatz ist bei der StatLib Library der Carnegie Mellon University erhältlich.  \n",
    "Quelle: http://lib.stat.cmu.edu/datasets/houses.zip\n",
    "\n",
    "Informieren Sie sich hier über den Inhalt des zu Grunde liegenden Datensatzes:\\\n",
    "https://scikit-learn.org/stable/datasets/real_world.html#california-housing-dataset\n",
    "\n",
    "Da der Datensatz sehr verbreitet ist, ist er im Machine Learning Paket _Scikit Learn_ enthalten.\n",
    "Sie finden hier weitere Informationen zum Import des Datensatzes in Python:\\\n",
    "https://scikit-learn.org/stable/modules/generated/sklearn.datasets.fetch_california_housing.html\n",
    "\n",
    "Wir laden den California Housing Datensatz und laden ihn in einen Pandas Data Frame:"
   ]
  },
  {
   "cell_type": "code",
   "execution_count": null,
   "id": "ca8d041e-51aa-4f0d-900c-f06e1c1db3d4",
   "metadata": {
    "tags": []
   },
   "outputs": [],
   "source": [
    "from sklearn.datasets import fetch_california_housing\n",
    "calhouse = fetch_california_housing(as_frame=True)\n",
    "data = calhouse.frame\n",
    "data.head()"
   ]
  },
  {
   "cell_type": "markdown",
   "id": "97aa240a-3d1f-4c6d-b96c-d6ea46b836f1",
   "metadata": {},
   "source": [
    "In dieser Tabelle sehen wir die Features sowie das Zielattribut (_Target_) für eine Regressionsaufgabe. Das Zielattribut ist das Attribut, welches man später basierend auf weiteren Daten algorithmisch schätzen möchte. Die Werte des Zielattributs werden auch _Label_ genannt. In diesem Beispiel handelt es sich dabei um den Median-Hauswert (_MedHouseVal_) in einer californischen Census Blockgruppe. Jede Zeile repräsentiert also eine Census Blockgruppe. Eine Blockgruppe ist die kleinste geographische Einheit, für welche das US Census Bureau Daten veröffentlicht. Im Normalfall hat eine Blockgruppe eine Population von 600 bis 3.000 Menschen.\n",
    "\n",
    "Die anderen Features sind die folgenden:\n",
    "\n",
    "- **MedInc:**      Median-Einkommen\n",
    "- **HouseAge:**    Median-Hausalter\n",
    "- **AveRooms:**    Mittlere Zimmerzahl\n",
    "- **AveBedrms:**   Mittlere Schlafzimmerzahl  \n",
    "- **Population:**  Bevölkerungszahl\n",
    "- **AveOccup:**    Mittlere Bewohnerzahl der Häuser\n",
    "- **Latitude:**    Breitengrad\n",
    "- **Longitude:**   Längengrad \n",
    "\n",
    "In einer Machine Learning Aufgabe möchte man nun an Hand dieser Daten lernen, wie der Zusammenhang zwischen diesen Features und dem zugehörigen Zielattribut (_MedHouseVal_: Median-Hauswert) ist.\n",
    "\n",
    "Wir können uns wie folgt erst einmal ein paar Informationen über den Datensatz ausgeben lassen:"
   ]
  },
  {
   "cell_type": "code",
   "execution_count": null,
   "id": "7e26ac7b-52cc-41f2-9017-7cf3c1b9827d",
   "metadata": {},
   "outputs": [],
   "source": [
    "data.info()"
   ]
  },
  {
   "cell_type": "markdown",
   "id": "90c0e383-53f1-494c-9267-86f45e2683dd",
   "metadata": {},
   "source": [
    "Wie wir sehen besteht der Datensatz aus 20640 Datenpunkten und 8 Features sowie dem Median-Hauswert (_MedHouseVal_) als vorherzusagendes Zielattribut.\n",
    "Wir sehen außerdem, dass es in diesem Datensatz keine fehlenden Datenpunkte gibt. Der Datensatz ist zur Anwendung im Machine Learning also schon vorverarbeitet worden (so wie die meisten öffentlich zugänglichen Daten). Um den Realfall zu simulieren und unsere Data Engineering Methoden zu üben, müssen wir also unseren Datensatz künstlich verschlechtern."
   ]
  },
  {
   "cell_type": "code",
   "execution_count": null,
   "id": "c6853e2a-d8ae-4281-b2e0-2c721045e1c3",
   "metadata": {},
   "outputs": [],
   "source": [
    "# Ändern einiger Datentypen\n",
    "data.AveOccup = data.AveOccup.astype('string')\n",
    "data.AveRooms = data.AveRooms.astype('string')\n",
    "data.AveBedrms = data.AveBedrms.astype('int')"
   ]
  },
  {
   "cell_type": "code",
   "execution_count": null,
   "id": "c2a8a34d-c926-42ee-bfd3-bc7ca9b6bbb3",
   "metadata": {},
   "outputs": [],
   "source": [
    "# Bitte den Random Seed 0 nicht verändern, damit die Ergebnisse vergleichbar sind\n",
    "rng = np.random.RandomState(0)\n",
    "\n",
    "# Funktion zum Löschen einiger Datenpunkte\n",
    "def add_missing_values(pdColumns,missing_rate):\n",
    "    # Anzahl der Zeilen\n",
    "    n_samples = pdColumns.shape[0]\n",
    "\n",
    "    # Anzahl fehlender Werte basierend auf Zeilenanzahl und Fehlrate\n",
    "    n_missing_samples = int(n_samples * missing_rate)\n",
    "\n",
    "    # Erstellen eines bool arrays, welches an zufälligen Stellen \n",
    "    # n_missing_samples mal True enthält\n",
    "    missing_samples = np.zeros(n_samples, dtype=bool)\n",
    "    missing_samples[: n_missing_samples] = True\n",
    "    rng.shuffle(missing_samples)\n",
    "    \n",
    "    # Erstellen der Ausgabevariable und löschen der entsprechenden Werte\n",
    "    pdColumns_missing = pdColumns.copy()\n",
    "    pdColumns_missing[missing_samples] = np.nan\n",
    "    \n",
    "    return pdColumns_missing"
   ]
  },
  {
   "cell_type": "code",
   "execution_count": null,
   "id": "22a45d78-ad9b-4ad8-aa60-48137be54185",
   "metadata": {},
   "outputs": [],
   "source": [
    "# Füge bei einigen Features zufällig fehlende Werte hinzu\n",
    "data.MedInc = add_missing_values(data.MedInc, 0.1)\n",
    "data.Population = add_missing_values(data.Population, 0.01)\n",
    "data.MedHouseVal = add_missing_values(data.MedHouseVal, 0.05)\n",
    "\n",
    "# Füge bei einigen Features fehlende Werte am Stück hinzu\n",
    "data.loc[354:635,('HouseAge')] = np.nan\n",
    "data.loc[14657:14725,('HouseAge')] = np.nan\n",
    "\n",
    "# Füge bei einigen Features Ausreißer hinzu\n",
    "data.loc[[3,58,372,6927,10475],('Latitude')] = 0\n",
    "data.loc[[368,3945,8375,14868,15968],('Longitude')] = 1000\n",
    "data.loc[[23,465,746,1645],('HouseAge')] = 624\n",
    "data.loc[[8,287,435,2865,5857,17586],('HouseAge')] = 814\n",
    "data.loc[[385,938,6395,8156,15745, 17464],('HouseAge')] = 946"
   ]
  },
  {
   "cell_type": "code",
   "execution_count": null,
   "id": "1219950c-29bf-4d05-a50b-2342142b88db",
   "metadata": {},
   "outputs": [],
   "source": [
    "data.info()"
   ]
  },
  {
   "cell_type": "markdown",
   "id": "ca8c89ed-cff1-443b-b859-60ea81d12f17",
   "metadata": {},
   "source": [
    "Wie wir sehen haben wir nun einen verschlechterten Datensatz vorliegen."
   ]
  },
  {
   "cell_type": "markdown",
   "id": "addab38c-8c91-414d-80c9-d69ceb8821c1",
   "metadata": {},
   "source": [
    "## Aufgabe (20 Punkte)\n",
    "\n",
    "Machen Sie sich z.B. durch Visualisierungen/Plots mit den Daten vertraut und bereiten Sie die Tabelle für eine mögliche Datenanalyse vor.\n",
    "\n",
    "* Welche Visualisierungen eignen sich?\n",
    "* Was fällt Ihnen auf?\n",
    "* Welche Probleme sehen Sie in diesem Datensatz?\n",
    "* Welche Methoden können Sie verwenden, um den Datensatz für eine Datenanalyse vorzubereiten?\n",
    "\n",
    "Entscheiden Sie sich für passende Datenvorverarbeitungsmethoden und bereiten Sie den Datensatz für eine Datenanalyse vor.\n",
    "Erläutern Sie Ihr Vorgehen in Markdown Cells und/oder Python Kommentaren. Begründen Sie, welche Methoden Sie verwenden und notieren Sie Ihre Erkenntnisse."
   ]
  },
  {
   "cell_type": "code",
   "execution_count": null,
   "id": "45081915-e230-45f9-97b6-c263abb7c997",
   "metadata": {},
   "outputs": [],
   "source": []
  },
  {
   "cell_type": "markdown",
   "id": "552a9d43-4f0a-4297-b113-149fa4f0dbd7",
   "metadata": {},
   "source": [
    "## Bonusaufgabe (10 Extrapunkte)\n",
    "\n",
    "Gehen Sie auf folgende Webseite:\\\n",
    "https://www.corona-daten-deutschland.de/\n",
    "\n",
    "Gewinnen Sie dort unter **_Datensätze_** einen ersten Überblick über die verfügbaren Daten. \n",
    "Suchen Sie sich zwei Datensätze aus, welche Sie genauer untersuchen möchten. Notieren Sie in einer Markdown Cell im Notebook, welche Datensätze Sie verwenden.\n",
    "\n",
    "* Importieren Sie beide Datensätze\n",
    "* Visualisieren Sie beispielhaft einzelne Features\n",
    "* _Joinen_ (verknüpfen) Sie beide Datensätze zu einer großen Tabelle (Pandas DataFrame), welche dann analysiert werden könnte\n",
    "* Untersuchen Sie potentielle Korrelationen zwischen einzelnen Features, z.B. via Scatterplots oder Korrelationskoeffizienten\n",
    "\n",
    "**Tipp**:\\\n",
    "csv's  können direkt in einen Pandas DataFrame geladen werden:\\\n",
    "https://pandas.pydata.org/docs/reference/api/pandas.read_csv.html"
   ]
  },
  {
   "cell_type": "code",
   "execution_count": null,
   "id": "415f0b2b-8ee6-48fd-b8f4-d4c979f9d2d3",
   "metadata": {},
   "outputs": [],
   "source": []
  }
 ],
 "metadata": {
  "kernelspec": {
   "display_name": "Python 3",
   "language": "python",
   "name": "python3"
  },
  "language_info": {
   "codemirror_mode": {
    "name": "ipython",
    "version": 3
   },
   "file_extension": ".py",
   "mimetype": "text/x-python",
   "name": "python",
   "nbconvert_exporter": "python",
   "pygments_lexer": "ipython3",
   "version": "3.8.10"
  }
 },
 "nbformat": 4,
 "nbformat_minor": 5
}
