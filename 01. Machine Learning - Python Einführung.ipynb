{
 "cells": [
  {
   "cell_type": "markdown",
   "id": "5e2c3bfe-dfe6-4e52-9d81-9832d00a5d8f",
   "metadata": {},
   "source": [
    "# Notebook 1:  Einarbeitung in Python und Jupyter Notebooks\n",
    "\n",
    "<font color='red'>**Wichtig**:  \n",
    "Dieses Notebook dient Ihrer Einarbeitung in Python und Jupyter Nootbook und muss **nicht** abgegeben werden.</font>\n",
    "\n",
    "Für die Programmieraufgaben werden wir Python in Kombination mit Jupyter Notebooks verwenden.  \n",
    "\n",
    "## Warum Python?\n",
    "\n",
    "- Python ist die am weitesten verbreitete Programmiersprache im Bereich Data Science. Es gibt daher viele Bibliotheken, die das Arbeiten in dem Bereich erleichtern.\n",
    "- Python ist verhältnismäßig schnell zu lernen, da es sich um eine Skriptsprache handelt.\n",
    "- Python steht auf diversen Plattformen zur Verfügung\n",
    "- Installation erfolgt am einfachsten  über **Anaconda**: https://www.anaconda.com/products/individual \n",
    "- Achten Sie bei der Installation von Python darauf, dass es sich um **Python 3** handelt.\n",
    "- Anaconda enthält neben dem Python-Interpreter, dem Paketmanager *conda* und geläufigen Pythonbibliotheken wie z.B. *numpy*, *matplotlib*, *pandas*, etc. auch verschiedene Python-basierte Tools\n",
    "- Nennenswert sind hier insbesondere *JupyterLab* und *Jupyter Notebook*, welche wir für die Programmier- & Übungsaufgaben verwenden werden, sowie die integrierten Entwicklungsumgebungen (IDEs) *Spyder* und *PyCharm*, welche sich insbesondere für größere Projekte anbieten.\n",
    "- Eine weitere häufig verwendete IDE ist *Visual Studio Code*. Diese ist jedoch nicht in Anaconda enthalten.\n",
    "\n",
    "## Jupyter Notebook(s) & JupyterLab\n",
    "\n",
    "- Jupyter Notebook ist eine webbasierte interaktive Umgebung, mit der Jupyter-Notebook-Dokumente oder kurz *Jupyter Notebooks* erstellt werden können.\n",
    "- Die Oberfläche wird komplett im Browser dargestellt, ist dabei aber lokal, d.h. nicht im Internet.\n",
    "- Jupyter Notebooks eignen sich gut, um den geschriebenen Code durch Text und Plots zu dokumentieren. Es entsteht ein geschriebenes Dokument inklusive lauffähigem Quellcode, welches auch gut als html, pdf o.ä. exportiert werden kann. Die Ausgabe der Programmteile erfolgt direkt im Notebook.\n",
    "- Jupyter Notebooks sind JSON-Dokumente, welche aus einer Liste von Eingabe- und Ausgabezellen bestehen, die jeweils Code, Text, Plots, Bilder, Links etc. enthalten können. Die Dateinamensendung ist *„.ipynb“*.\n",
    "- Jupyter Notebooks bestehen aus zwei verschiedenen Zelltypen, einmal **Code** (`Y`), hier kann lauffähiger Python-Code eingefügt werden und einmal **Markdown** (`M`), hier können Text, Links, Bilder ähnlich wie in html eingefügt werden.\n",
    "- Jupyter Notebook ist in Anaconda enthalten. \n",
    "- Es bietet sich an das ebenfalls in Anaconda enthaltene <font color='green'>***JupyterLab***</font> zu verwenden, welches das Nachfolgeprodukt für die Benutzeroberfläche ist. Es bietet die Elemente des Jupyter Notebooks in einer flexiblen Benutzeroberfläche, wird stetig weiterentwickelt und kann durch Erweiterungen ergänzt werden.\n",
    "- Hilfreiche Shortcuts sind auf diesem [Cheat Sheet](https://defkey.com/jupyterlab-shortcuts?pdf=true&modifiedDate=20210507T093607)  zu finden.\n",
    "\n",
    "## Arbeiten mit Jupyter Notebooks und Python\n",
    "\n",
    "Sollten Sie sich zuvor noch nicht mit Python und/oder Jupyter Notebooks beschäftigt haben, so finden Sie nachfolgend einen kleinen Einstieg.\n",
    "\n",
    "Das nun folgende Tutorial basiert auf dem [Tutorial](https://cs231n.github.io/python-numpy-tutorial/) des [CS231n](http://cs231n.stanford.edu/) Kurses der Stanford University.\n",
    "\n",
    "Die unten stehende Zelle ist Programmcode. Wählen Sie sie aus und lassen Sie sie mit `Shift-Enter` laufen. Markdown Zellen müssen ebenfalls mit `Shift-Enter` ausgeführt werden, damit sie entsprechend formatiert werden. Eine Zelle kann mit Doppelklick beareitet werden."
   ]
  },
  {
   "cell_type": "code",
   "execution_count": null,
   "id": "e6c5b174-76b4-4b87-a279-fe259c6e6247",
   "metadata": {},
   "outputs": [],
   "source": [
    "print('Hello World!')"
   ]
  },
  {
   "cell_type": "markdown",
   "id": "ca66a44a-1e72-45a2-87d4-1c9ca576bc72",
   "metadata": {
    "tags": []
   },
   "source": [
    "Ein Notebook kann neugestartet werden inkl. Löschen aller Ergebnisse indem man auf `Kernel -> Restart and Clear all Outputs` klickt. Wenn nicht der gesamte Output gelöscht werden soll, reicht es `Kernel -> Restart Kernel` zu klicken.\n",
    "\n",
    "Jupyter Notebooks sollen von oben nach unten laufen. Wenn man also allen Output löscht und mittendrin etwas ausführen möchte, was auf vorherige Zellen zugreift, so müssen zuerst die vorherigen Zellen ausgeführt werden. \n",
    "\n",
    "Wenn Sie für die Programmier- & Übungsaufgaben Notebooks bearbeiten, denken SIe daran die Ergebnisse zu speichern ( `Strg + s` oder `File -> Save Notebook [As]`).\n",
    "\n",
    "Testen Sie, ob Sie wirklich Python 3 installiert haben indem Sie die folgende Zelle ausführen:"
   ]
  },
  {
   "cell_type": "code",
   "execution_count": null,
   "id": "0016367b-bd4d-44d5-aaac-6174032ff960",
   "metadata": {},
   "outputs": [],
   "source": [
    "!python --version"
   ]
  },
  {
   "cell_type": "markdown",
   "id": "bee23c10-cd95-4160-99ff-c704f18a557a",
   "metadata": {
    "tags": []
   },
   "source": [
    "### Variablen in Python"
   ]
  },
  {
   "cell_type": "code",
   "execution_count": null,
   "id": "f69befae-e793-42c3-a2ef-7b06e51d4e38",
   "metadata": {},
   "outputs": [],
   "source": [
    "i = 4      # Dies ist ein Integer\n",
    "print(i)"
   ]
  },
  {
   "cell_type": "markdown",
   "id": "b60ec834-311d-4934-816b-950eb8d90e34",
   "metadata": {},
   "source": [
    "Den Typ der Variable erhält man wie folgt:"
   ]
  },
  {
   "cell_type": "code",
   "execution_count": null,
   "id": "aa1c86bf-9609-4a66-a5cf-ef63d00276d7",
   "metadata": {},
   "outputs": [],
   "source": [
    "type(i)"
   ]
  },
  {
   "cell_type": "markdown",
   "id": "8c390a52-a343-4b21-b596-2bf6050b8885",
   "metadata": {},
   "source": [
    "Wie man sieht werden globale Variablen zwischen allen Zellen geteilt.\n",
    "\n",
    "Grundlegendes Rechnen:"
   ]
  },
  {
   "cell_type": "code",
   "execution_count": null,
   "id": "d525c827-ea65-4833-a405-50f2f9cb81d2",
   "metadata": {},
   "outputs": [],
   "source": [
    "print(i + 1)   # Addition\n",
    "print(i - 2)   # Subtraktion\n",
    "print(i * 3)   # Multiplikation\n",
    "print(i ** 2)  # Rechnen mit Exponenten"
   ]
  },
  {
   "cell_type": "code",
   "execution_count": null,
   "id": "24cf29f7-c104-455c-b512-69a3f58a3c1f",
   "metadata": {},
   "outputs": [],
   "source": [
    "i += 1\n",
    "print(i)\n",
    "i *= 2\n",
    "print(i)"
   ]
  },
  {
   "cell_type": "markdown",
   "id": "f1dc9325-74e7-49a3-a1f4-06c86071a4e2",
   "metadata": {},
   "source": [
    "Weitere Variablentypen:"
   ]
  },
  {
   "cell_type": "code",
   "execution_count": null,
   "id": "f193139a-839f-408c-9237-46c252592cb8",
   "metadata": {},
   "outputs": [],
   "source": [
    "f = 2.6    # Dies ist ein Float\n",
    "type(f)"
   ]
  },
  {
   "cell_type": "code",
   "execution_count": null,
   "id": "c2a20a89-222f-4059-be4e-ca04e265f3ee",
   "metadata": {},
   "outputs": [],
   "source": [
    "prod = i*f\n",
    "print(prod)"
   ]
  },
  {
   "cell_type": "code",
   "execution_count": null,
   "id": "ebcccdfa-ca4f-4554-b513-205cfd2ffbe9",
   "metadata": {},
   "outputs": [],
   "source": [
    "type(prod)"
   ]
  },
  {
   "cell_type": "code",
   "execution_count": null,
   "id": "694a31bd-986a-48c0-8d3b-6909abb6b668",
   "metadata": {},
   "outputs": [],
   "source": [
    "b = True   # Dies ist ein Boolean\n",
    "b2 = False\n",
    "print(type(b), type(b2))"
   ]
  },
  {
   "cell_type": "code",
   "execution_count": null,
   "id": "fcdfba36-d27d-4215-8c54-c4c9b2cd94dc",
   "metadata": {},
   "outputs": [],
   "source": [
    "print(b and b2) # Logisches UND;\n",
    "print(b or b2)  # Logisches ODER;\n",
    "print(not b)    # Logisches NICHT;\n",
    "print(b != b2)  # Logisches ausschließendes oder (XOR);"
   ]
  },
  {
   "cell_type": "code",
   "execution_count": null,
   "id": "8ad25a04-9135-42ef-8157-e974bb8d748e",
   "metadata": {},
   "outputs": [],
   "source": [
    "s = \"Dies ist ein String!\"\n",
    "type(s)"
   ]
  },
  {
   "cell_type": "code",
   "execution_count": null,
   "id": "944129dd-415b-4366-ab8a-c184e6246e59",
   "metadata": {},
   "outputs": [],
   "source": [
    "print(s)"
   ]
  },
  {
   "cell_type": "code",
   "execution_count": null,
   "id": "95d8b13d-390d-4764-81d0-0b6167023370",
   "metadata": {},
   "outputs": [],
   "source": [
    "print(s + ' Er hat ' + str(len(s)) + ' Zeichen.')"
   ]
  },
  {
   "cell_type": "markdown",
   "id": "0cd16e86-c4a0-49b2-9f23-a50460f0fd54",
   "metadata": {},
   "source": [
    "Erweiterte Print-Formatierung:"
   ]
  },
  {
   "cell_type": "code",
   "execution_count": null,
   "id": "d4614ec9-7515-44c1-97a5-4346a9cbd030",
   "metadata": {},
   "outputs": [],
   "source": [
    "print(\"Unser Float ist %s und unser Integer is %s.\" % (f,i) )"
   ]
  },
  {
   "cell_type": "markdown",
   "id": "0f307146-7f8e-4217-872c-f6b1e45c1b36",
   "metadata": {},
   "source": [
    "### Wenn-Dann-Anweisungen (Conditionals)"
   ]
  },
  {
   "cell_type": "code",
   "execution_count": null,
   "id": "b1fd9d17-5ca2-4185-bfd5-d582a762c785",
   "metadata": {},
   "outputs": [],
   "source": [
    "if i == 1 and f > 4:\n",
    "    print(\"Der Wert von i ist 1 und f ist größer als 4.\")\n",
    "elif i > 4 or f > 4:\n",
    "    print(\"i oder f ist größer als 4.\")\n",
    "else:\n",
    "    print(\"i und f sind kleiner gleich 4.\")\n"
   ]
  },
  {
   "cell_type": "markdown",
   "id": "8aa616a7-3425-44a4-94bf-a14ba4f30258",
   "metadata": {},
   "source": [
    "### Weitere Python-Typen"
   ]
  },
  {
   "cell_type": "markdown",
   "id": "af0a96db-0d04-4e79-9f12-0ee68d081e5f",
   "metadata": {},
   "source": [
    "#### Pythons Null Typ "
   ]
  },
  {
   "cell_type": "code",
   "execution_count": null,
   "id": "6c1f0239-f966-44f5-b240-2aabfcb0a18a",
   "metadata": {
    "tags": []
   },
   "outputs": [],
   "source": [
    "n = None\n",
    "type(n)"
   ]
  },
  {
   "cell_type": "markdown",
   "id": "921f7f63-8e88-4d79-8731-bac1fa664c6d",
   "metadata": {},
   "source": [
    "#### Listen"
   ]
  },
  {
   "cell_type": "code",
   "execution_count": null,
   "id": "36e290f1-7c59-4382-a0f8-d84469d0ab8e",
   "metadata": {},
   "outputs": [],
   "source": [
    "l = [3,1,2]  # Liste\n",
    "type(l)"
   ]
  },
  {
   "cell_type": "code",
   "execution_count": null,
   "id": "e921a9d6-ee0d-4ddd-98a3-c0b6f5fae8ff",
   "metadata": {},
   "outputs": [],
   "source": [
    "print(l)\n",
    "print(l[0])\n",
    "print(l[1])\n",
    "print(l[2])\n",
    "print(l[-1])  # Negative Indizes zählen vom Ende der Liste"
   ]
  },
  {
   "cell_type": "markdown",
   "id": "459fdfc3-001a-4229-ac3c-5a0419eb6369",
   "metadata": {},
   "source": [
    "Listen können auch andere Elemente enthalten:"
   ]
  },
  {
   "cell_type": "code",
   "execution_count": null,
   "id": "6510e58e-6b85-419d-9094-d513dec3450f",
   "metadata": {},
   "outputs": [],
   "source": [
    "l[2] = 'bla'\n",
    "print(l)"
   ]
  },
  {
   "cell_type": "markdown",
   "id": "60a8c78a-6f6c-4985-b4a1-6fcf507b8db7",
   "metadata": {},
   "source": [
    "Ein Element anfügen:"
   ]
  },
  {
   "cell_type": "code",
   "execution_count": null,
   "id": "ea076fb2-87ef-48ef-9be0-66b032d01af1",
   "metadata": {},
   "outputs": [],
   "source": [
    "l.append('blubb')\n",
    "print(l)"
   ]
  },
  {
   "cell_type": "markdown",
   "id": "bc8db752-931e-42e0-a898-fa7ddd025919",
   "metadata": {},
   "source": [
    "Gib das letzte Element aus und lösche das letzte Element aus der Liste:"
   ]
  },
  {
   "cell_type": "code",
   "execution_count": null,
   "id": "7d638d3f-95e5-4e88-a91a-9cf079e7d90b",
   "metadata": {},
   "outputs": [],
   "source": [
    "l2 = l.pop()\n",
    "print(l2)\n",
    "print(l)"
   ]
  },
  {
   "cell_type": "markdown",
   "id": "f79b9aea-d297-4915-8458-e5b277718348",
   "metadata": {},
   "source": [
    "Man kann auch Teile einer Liste ansprechen und ausgeben:"
   ]
  },
  {
   "cell_type": "code",
   "execution_count": null,
   "id": "2a3c6638-0d67-4f76-b6ae-f7d208a83fe6",
   "metadata": {},
   "outputs": [],
   "source": [
    "nums = list(range(5))    # Erstelle eine Liste von Integern\n",
    "print(nums)              # Gibt \"[0, 1, 2, 3, 4]\" aus\n",
    "print(nums[2:4])         # Gibt die Unterliste von Index 2 bis 4 aus, wobei der letztgenannte Index nicht ausgegeben wird, d.h. \"[2, 3]\"\n",
    "print(nums[2:])          # Gibt die Unterliste von Index 2 bis zum Ende aus, d.h. \"[2, 3, 4]\"\n",
    "print(nums[:2])          # Gibt die Unterliste vom Start bis zum Index 2 aus, d.h. \"[0, 1]\"\n",
    "print(nums[:-1])         # Indizes können auch negativ sein; Gibt [\"0, 1, 2, 3]\" aus\n",
    "nums[2:4] = [8, 9]       # Neue Werte zuordnen\n",
    "print(nums)              # Gibt die ganze Liste aus, d.h. \"[0, 1, 8, 9, 4]\""
   ]
  },
  {
   "cell_type": "markdown",
   "id": "1f8bb91b-c95d-4c70-a98e-8bbb5f8ef65c",
   "metadata": {},
   "source": [
    "Man kan wie folgt über Listenelemente Schleifen bilden:"
   ]
  },
  {
   "cell_type": "code",
   "execution_count": null,
   "id": "2250b93f-2c02-4eed-9e4b-cd3e97d9880d",
   "metadata": {},
   "outputs": [],
   "source": [
    "tiere = ['Hund', 'Katze', 'Maus']\n",
    "for tier in tiere:\n",
    "    print(tier)"
   ]
  },
  {
   "cell_type": "markdown",
   "id": "e2f3d4b5-022d-4f38-a124-2c66bbd616d2",
   "metadata": {},
   "source": [
    "In Python werden keine geschweiften Klammern oder andere Zeichen verwendet, um den Teil der Schleife zu kennzeichnen, der iteriert wird. Stattdessen werden die Codeteile mit Tab oder Leerzeichen eingerückt, die iteriert werden. Dieses Prinzip kann natürlich auch verschachtelt werden und führt gleichzeitig zu übersichtlichem Code.\n",
    "\n",
    "Möchte man außerdem den Index einer Liste verwenden, so ist dies mit der `enumerate` Funktion möglich"
   ]
  },
  {
   "cell_type": "code",
   "execution_count": null,
   "id": "e7637983-d9d2-42b3-b3ec-5c202727222f",
   "metadata": {},
   "outputs": [],
   "source": [
    "for idx, tier in enumerate(tiere):\n",
    "    print(\"%s: %s\" % (idx,tier))"
   ]
  },
  {
   "cell_type": "markdown",
   "id": "81137d97-ed71-4035-ab96-4c4c9cdf9552",
   "metadata": {},
   "source": [
    "While-Schleifen funktionieren wie folgt:"
   ]
  },
  {
   "cell_type": "code",
   "execution_count": null,
   "id": "407f918c-5c37-462a-8af3-cf698aad8ee9",
   "metadata": {},
   "outputs": [],
   "source": [
    "counter = 6\n",
    "while counter < 10:\n",
    "    print(counter)\n",
    "    counter += 1"
   ]
  },
  {
   "cell_type": "markdown",
   "id": "01b508c6-86f3-42f6-b31a-1e25b32201e8",
   "metadata": {},
   "source": [
    "Mit Listen-Abstraktion kann Code vereinfacht werden, z.B. der Folgende:"
   ]
  },
  {
   "cell_type": "code",
   "execution_count": null,
   "id": "911c66f2-7c4f-482e-8340-4cfac8592f50",
   "metadata": {},
   "outputs": [],
   "source": [
    "zahlen = [0, 1, 2, 3, 4]\n",
    "quadrate = []\n",
    "for x in zahlen:\n",
    "    quadrate.append(x ** 2)\n",
    "print(quadrate)"
   ]
  },
  {
   "cell_type": "markdown",
   "id": "852b4d1c-930b-4856-9f27-99ebfddb9f46",
   "metadata": {},
   "source": [
    "kann wie folgt vereinfacht werden:"
   ]
  },
  {
   "cell_type": "code",
   "execution_count": null,
   "id": "661cd56c-be10-4502-8588-1f224cd0e7b8",
   "metadata": {},
   "outputs": [],
   "source": [
    "zahlen = [0, 1, 2, 3, 4]\n",
    "quadrate = [x ** 2 for x in zahlen]\n",
    "print(quadrate)"
   ]
  },
  {
   "cell_type": "markdown",
   "id": "9d9f9094-2ba3-4283-8d20-8a25a267e66d",
   "metadata": {},
   "source": [
    "Listen-Abstraktionen können auch Bedingungen enthalten:"
   ]
  },
  {
   "cell_type": "code",
   "execution_count": null,
   "id": "d5abc1b7-7382-4525-a2ff-817be5acd252",
   "metadata": {},
   "outputs": [],
   "source": [
    "zahlen = [0, 1, 2, 3, 4]\n",
    "gerade_quadrate = [x ** 2 for x in zahlen if x % 2 == 0]\n",
    "print(gerade_quadrate)"
   ]
  },
  {
   "cell_type": "markdown",
   "id": "c6799eb8-1183-465d-b6c1-10175a8cd422",
   "metadata": {},
   "source": [
    "#### Dictionaries"
   ]
  },
  {
   "cell_type": "markdown",
   "id": "2fe29869-4f88-4750-99e3-97d66e521d57",
   "metadata": {},
   "source": [
    "Ein Dictionary speichert Schlüssel-Werte-Paare (*Key-Value-Pairs*) und kann wie folgt genutzt werden:"
   ]
  },
  {
   "cell_type": "code",
   "execution_count": null,
   "id": "3d0efcc5-5fe3-488f-8d91-b9b504cbacab",
   "metadata": {},
   "outputs": [],
   "source": [
    "d = {'Hund': 'Ball', 'Katze': 'Laserpointer', 'Maus': 'Käse'}   # Dichtionary\n",
    "type(d)"
   ]
  },
  {
   "cell_type": "code",
   "execution_count": null,
   "id": "e844d14d-29ff-45b1-8b0e-43337d615254",
   "metadata": {},
   "outputs": [],
   "source": [
    "print(d)\n",
    "print(d['Hund'])    # Element eines Dictionarys\n",
    "print(\"Die Katze jagt den %s.\" % d['Katze'])\n",
    "print('Maus' in d)   # Prüfe ob Mauzs bereits im Dictionary ist"
   ]
  },
  {
   "cell_type": "code",
   "execution_count": null,
   "id": "18e226c2-4127-4e8a-91ea-a9875b26176a",
   "metadata": {},
   "outputs": [],
   "source": [
    "d['Affe'] = 'Banane'   # Neuer Eintrag\n",
    "print(d['Affe'])"
   ]
  },
  {
   "cell_type": "code",
   "execution_count": null,
   "id": "e4548635-26b5-4231-a3de-f2b78c0ec294",
   "metadata": {},
   "outputs": [],
   "source": [
    "print(d['Fisch'])   # Fehler, da Fisch nicht vorhanden ist"
   ]
  },
  {
   "cell_type": "markdown",
   "id": "b69256b6-65ca-498f-b44e-cae8b631cabd",
   "metadata": {},
   "source": [
    "Man kann diesen Fehler mit der Funktion `get` umgehen:"
   ]
  },
  {
   "cell_type": "code",
   "execution_count": null,
   "id": "afdab2df-4be7-4efd-ac84-f048f3325b3f",
   "metadata": {},
   "outputs": [],
   "source": [
    "print(d.get('Fisch', 'N/A'))   # Gibt \"N/A\" aus, da Fisch nicht vorhanden ist\n",
    "print(d.get('Hund', 'N/A'))    # Gibt \"Ball\" aus, da Hund vorhanden ist"
   ]
  },
  {
   "cell_type": "code",
   "execution_count": null,
   "id": "bb50b4fd-775c-475b-a92a-41d29e00b2ff",
   "metadata": {},
   "outputs": [],
   "source": [
    "del d['Katze']                 # Entfernt Katze aus dem Dictionary\n",
    "print(d.get('Katze', 'N/A'))   # Gibt \"N/A\" aus, da Katze nicht mehr vorhanden ist"
   ]
  },
  {
   "cell_type": "markdown",
   "id": "eed4bd63-e2eb-42eb-b970-8626a974a8bd",
   "metadata": {},
   "source": [
    "Iteration über Dictionary-Einträge:"
   ]
  },
  {
   "cell_type": "code",
   "execution_count": null,
   "id": "05b5fcfe-82d1-473a-9e1e-e44fd86f07f2",
   "metadata": {},
   "outputs": [],
   "source": [
    "d = {'Mensch': 2, 'Hund': 4, 'Insekt': 'viele'}\n",
    "for tier, beine in d.items():\n",
    "    print(\"Ein %s hat %s Beine.\" % (tier, beine))"
   ]
  },
  {
   "cell_type": "markdown",
   "id": "4fbe113b-e2a2-4d67-bbf3-817b266d0a03",
   "metadata": {},
   "source": [
    "Dictionary-Abstraktion kann ähnlich wie Listen-Abstraktion verwändet werden:"
   ]
  },
  {
   "cell_type": "code",
   "execution_count": null,
   "id": "57d2a8b5-7aee-400f-8b45-93b963de2080",
   "metadata": {},
   "outputs": [],
   "source": [
    "zahlen = [0, 1, 2, 3, 4]\n",
    "gerade_quadrate = {x: x ** 2 for x in zahlen if x % 2 == 0}\n",
    "print(gerade_quadrate)"
   ]
  },
  {
   "cell_type": "markdown",
   "id": "716c5f60-5d39-4418-b2e0-825f54112f26",
   "metadata": {},
   "source": [
    "### Mengen\n",
    "\n",
    "Mengen sind unsortierte Sammlungen von unterschiedlichen Elementen."
   ]
  },
  {
   "cell_type": "code",
   "execution_count": null,
   "id": "2ba78b45-a7ec-42e0-88e3-105e1637483a",
   "metadata": {},
   "outputs": [],
   "source": [
    "tiere = {'Hund', 'Katze'}\n",
    "print(type(tiere))\n",
    "print('Katze' in tiere)   # Prüfe ob ein Element in einer Menge enthalten ist; gibt \"True\" aus\n",
    "print('Fisch' in tiere)   # Gibt \"False\" aus"
   ]
  },
  {
   "cell_type": "code",
   "execution_count": null,
   "id": "58f81d83-34b2-47a7-b15a-c5f4ecd7d39c",
   "metadata": {},
   "outputs": [],
   "source": [
    "tiere.add('Fisch')      # Add an element to a set\n",
    "print('Fisch' in tiere)\n",
    "print(len(tiere))       # Number of elements in a set;"
   ]
  },
  {
   "cell_type": "code",
   "execution_count": null,
   "id": "7ae2aac6-7f5c-4666-9d78-0639aabe23ce",
   "metadata": {},
   "outputs": [],
   "source": [
    "tiere.add('Katze')       # Fügt man ein bereits vorhandenes Element hinzu, passiert nichts\n",
    "print(len(tiere)) \n",
    "tiere.remove('Fisch')    # Löscht ein Element aus der Menge\n",
    "print(len(tiere))       \n",
    "print(tiere)"
   ]
  },
  {
   "cell_type": "markdown",
   "id": "78b431ed-097a-41ab-97f7-488045483ff0",
   "metadata": {},
   "source": [
    "Man kan auch ähnlich wie bei Listen über Elemente einer Menge iterieren, allerdings sind Mengen unsortiert, d.h. man kann nicht von einer festen Reihenfolge der SChleife ausgehen."
   ]
  },
  {
   "cell_type": "code",
   "execution_count": null,
   "id": "ea6ac33f-8430-4e4d-8825-41793e1e675f",
   "metadata": {},
   "outputs": [],
   "source": [
    "tiere = {'Hund', 'Katze', 'Maus'}\n",
    "for idx, tier in enumerate(tiere):\n",
    "    print(\"%s: %s\" % (idx + 1, tier))"
   ]
  },
  {
   "cell_type": "markdown",
   "id": "74d59f9b-6c9d-461f-ac14-8794bcc276b2",
   "metadata": {},
   "source": [
    "Mengen-Abstraktion ist ähnlich wie bei Listen und Dictionaries möglich:"
   ]
  },
  {
   "cell_type": "code",
   "execution_count": null,
   "id": "b78199ec-8a23-46ad-8cd6-c783cb9907c6",
   "metadata": {},
   "outputs": [],
   "source": [
    "print({x*x for x in range(15)})"
   ]
  },
  {
   "cell_type": "markdown",
   "id": "780d3f39-61d2-4509-92b0-9008bfd8a51c",
   "metadata": {},
   "source": [
    "Auch hier sehen wir die Unsortiertheit von Mengen."
   ]
  },
  {
   "cell_type": "markdown",
   "id": "cc63b205-ff08-4eef-8fa7-084c02ea919b",
   "metadata": {},
   "source": [
    "### Tupel\n",
    "\n",
    "Tupel sind (unveränderbare) geordnete Listen bestehend aus Werten. Tupel sind sehr ähnlich wie Listen, allerdings können Listen nicht als SChlüssel in Dictionaries ider als Elemente von MEngen verwendet werden, Tupel hingegen schon: "
   ]
  },
  {
   "cell_type": "code",
   "execution_count": null,
   "id": "0fe09ddd-fb17-47fd-ab75-af94c6515dd8",
   "metadata": {},
   "outputs": [],
   "source": [
    "d = {(x, x + 1): x for x in range(10)}  # Erstelle ein Dictionary mit Tupel-Schlüsseln\n",
    "print(d)\n",
    "t = (5, 6)                              # ERstelle ein Tupel\n",
    "print(type(t))\n",
    "print(d[t])       \n",
    "print(d[(1, 2)])"
   ]
  },
  {
   "cell_type": "markdown",
   "id": "1b619285-d5eb-4001-ae22-17c69b809ea6",
   "metadata": {},
   "source": [
    "### Funktionen in Python\n",
    "\n",
    "Python Funktionen werden mit `def` definiert. Auch bei der Definition von Funktionen nutzen wir wieder das Einrücken des Codes statt geschweiften Klammern oder anderer Zeichen."
   ]
  },
  {
   "cell_type": "code",
   "execution_count": null,
   "id": "c442d66b-b8ba-4381-9de4-bed55a567e44",
   "metadata": {},
   "outputs": [],
   "source": [
    "def sign(x):\n",
    "    if x > 0:\n",
    "        return 'positiv'\n",
    "    elif x < 0:\n",
    "        return 'negativ'\n",
    "    else:\n",
    "        return 'null'\n",
    "\n",
    "for x in [-1, 0, 1]:\n",
    "    print(sign(x))"
   ]
  },
  {
   "cell_type": "markdown",
   "id": "f4be081f-8ebf-4600-9430-381523d4ae1b",
   "metadata": {},
   "source": [
    "Oft definiert man Funktionen, die optionale Input-Argumente haben. Diesen muss bei der Definition ein Defaultwert zugeschrieben werden:"
   ]
  },
  {
   "cell_type": "code",
   "execution_count": null,
   "id": "438b1847-aeb5-4f18-9abb-3fad8f520351",
   "metadata": {},
   "outputs": [],
   "source": [
    "def hallo(name, laut=False):\n",
    "    if laut:\n",
    "        print(\"HALLO %s!\" % name.upper())\n",
    "    else:\n",
    "        print(\"Hallo %s!\" %  name)\n",
    "\n",
    "hallo('Greta')\n",
    "hallo('Moritz', laut=True)"
   ]
  },
  {
   "cell_type": "markdown",
   "id": "c8a88dae-f884-4367-84c4-33294a5e002c",
   "metadata": {},
   "source": [
    "Wir können auch einfache Funktionen mit *lambda* definieren."
   ]
  },
  {
   "cell_type": "code",
   "execution_count": null,
   "id": "e8c47f12-ef9c-44a7-85d7-2fcd9ca1b6bc",
   "metadata": {},
   "outputs": [],
   "source": [
    "quadrat = lambda x: x*x"
   ]
  },
  {
   "cell_type": "code",
   "execution_count": null,
   "id": "d88c5f10-3501-406e-800d-1dfdce0b03b5",
   "metadata": {},
   "outputs": [],
   "source": [
    "quadrat(i)"
   ]
  },
  {
   "cell_type": "markdown",
   "id": "84f5f72b-e6c2-4572-b266-a0d461fac6b5",
   "metadata": {},
   "source": [
    "Funktionen können verschachtelt werden:"
   ]
  },
  {
   "cell_type": "code",
   "execution_count": null,
   "id": "7200b138-d2fc-4a69-9d05-2086610c56e5",
   "metadata": {},
   "outputs": [],
   "source": [
    "sign(quadrat(i))"
   ]
  },
  {
   "cell_type": "markdown",
   "id": "69258b37-5ca9-405f-9c80-1b145f6e6be0",
   "metadata": {},
   "source": [
    "### Klassen\n",
    "\n",
    "Hier ein Beispiel:"
   ]
  },
  {
   "cell_type": "code",
   "execution_count": null,
   "id": "6f3fa345-4d52-4230-b9b6-2ed9770d8728",
   "metadata": {},
   "outputs": [],
   "source": [
    "class gruesser:\n",
    "\n",
    "    # Constructor\n",
    "    def __init__(self, name):\n",
    "        self.name = name  # Erstelle eine Objektkomponente\n",
    "\n",
    "    # Instance method\n",
    "    def gruss(self, laut=False):\n",
    "        if laut:\n",
    "          print(\"HALLO %s!\" % self.name.upper())\n",
    "        else:\n",
    "          print(\"Hallo %s!\" % self.name)\n",
    "\n",
    "g = gruesser('Fred') # Erstelle eine Instanz der gruesser-Klasse\n",
    "g.gruss()            # Ruft die Methode auf; gibt \"Hallo Fred!\" aus\n",
    "g.gruss(laut=True)   # Ruft die Methode mit optionaler Variable auf; gibt \"HALLO FRED!\" aus"
   ]
  },
  {
   "cell_type": "markdown",
   "id": "0aef13ea-bacf-4ffd-a72d-3794b4a0d2f9",
   "metadata": {},
   "source": [
    "Probieren Sie gerne mehr aus, um sich mit Python weiter vertraut zu machen!"
   ]
  },
  {
   "cell_type": "code",
   "execution_count": null,
   "id": "a31a51ac-babd-4825-bfe5-e4c42ad12e61",
   "metadata": {},
   "outputs": [],
   "source": [
    "# Hier kann weiterer Code geschrieben werden\n",
    "\n"
   ]
  },
  {
   "cell_type": "markdown",
   "id": "2933324f-de6e-4e92-b3f7-df6b3ebf5d45",
   "metadata": {},
   "source": [
    "## Numpy"
   ]
  },
  {
   "cell_type": "markdown",
   "id": "165f565a-19dd-40f9-abf1-65fe2e313153",
   "metadata": {},
   "source": [
    "Numpy ist Pythons Hauptbibliothek für wissenschaftliches Programmieren. Es beinhaltet ein hochperformantes mehrdimensionales Array-Objekt sowie Tools um mit diesen Arrays zu arbeiten. Es ähnelt etwas dem Arbeiten und Rechnen mit MATLAB.\n",
    "\n",
    "Als erstes müssen wir das Numpy Package importieren:"
   ]
  },
  {
   "cell_type": "code",
   "execution_count": null,
   "id": "0020c7f7-33ea-4f52-8603-67a633614860",
   "metadata": {},
   "outputs": [],
   "source": [
    "import numpy as np"
   ]
  },
  {
   "cell_type": "markdown",
   "id": "2bd55d49-7cbc-41b4-8215-f68896186b04",
   "metadata": {
    "colab_type": "text",
    "id": "DDx6v1EdL9hb"
   },
   "source": [
    "### Arrays\n",
    "\n",
    "Ein Numpy Array ist ein Gitter bestehend aus Werten, die alle den selben Typ haben. Dieses Gitter ist indiziert durch ein Tupel nichtnegativer Integers. Die Anzahl der Dimensionen ist der Rang (`rank`) des Arrays. Die Form (`shape`) eines Arrays ist ein Integer-Tupel, welches die Längen entlang der jeweiligen Dimensionen enthält.\n",
    "\n",
    "Initialisieren können wir einen Numpy Array basierend auf Python Listen. Zugriff auf die Elemente erhalten wir durch eckige Klammern:"
   ]
  },
  {
   "cell_type": "code",
   "execution_count": null,
   "id": "05eab718-1ed2-4233-b3fd-edd692d44e53",
   "metadata": {
    "colab": {
     "base_uri": "https://localhost:8080/",
     "height": 52
    },
    "colab_type": "code",
    "id": "-l3JrGxCL9hc",
    "outputId": "8d9dad18-c734-4a8a-ca8c-44060a40fb79"
   },
   "outputs": [],
   "source": [
    "a = np.array([1, 2, 3])  # Erstelle einen Array mit Rang 1, dies entspricht einem Zeilenvektor\n",
    "print(\"Typ: %s\" % type(a))\n",
    "print(\"Rank: %s\" % a.ndim)\n",
    "print(\"Shape: %s\" % a.shape)\n",
    "print(a[0], a[1], a[2])\n",
    "a[0] = 5                 # Ändert ein Element des Arrays\n",
    "print(a)                  "
   ]
  },
  {
   "cell_type": "markdown",
   "id": "49ed8b75-7bce-4702-a409-5df096c4bec8",
   "metadata": {},
   "source": [
    "Erstelle einen Array mit Rang 1, dies entspricht einer Matrix (hier 2 x 3):"
   ]
  },
  {
   "cell_type": "code",
   "execution_count": null,
   "id": "d3786042-7f04-4a3d-82bc-8429c59aa1b0",
   "metadata": {
    "colab": {
     "base_uri": "https://localhost:8080/",
     "height": 52
    },
    "colab_type": "code",
    "id": "ma6mk-kdL9hh",
    "outputId": "0b54ff2f-e7f1-4b30-c653-9bf81cb8fbb0"
   },
   "outputs": [],
   "source": [
    "b = np.array([[1,2,3],[4,5,6]])\n",
    "print(b)"
   ]
  },
  {
   "cell_type": "code",
   "execution_count": null,
   "id": "ec914d30-8eb7-4404-9149-46247382747c",
   "metadata": {
    "colab": {
     "base_uri": "https://localhost:8080/",
     "height": 52
    },
    "colab_type": "code",
    "id": "ma6mk-kdL9hh",
    "outputId": "0b54ff2f-e7f1-4b30-c653-9bf81cb8fbb0"
   },
   "outputs": [],
   "source": [
    "print(b.shape)\n",
    "print(b[0, 0], b[0, 1], b[1, 0])   # Zugriff aut Matrix- bzw. Array-Elemente"
   ]
  },
  {
   "cell_type": "markdown",
   "id": "23176147-50a5-4b5b-ad72-acc0c5e540c2",
   "metadata": {
    "colab_type": "text",
    "id": "F2qwdyvuL9hn"
   },
   "source": [
    "Es gibt außerdem viele Funktionen um Arrays zu erstellen:"
   ]
  },
  {
   "cell_type": "code",
   "execution_count": null,
   "id": "5219933e-46d6-4960-b42d-c20c29dc2dda",
   "metadata": {
    "colab": {
     "base_uri": "https://localhost:8080/",
     "height": 52
    },
    "colab_type": "code",
    "id": "mVTN_EBqL9hn",
    "outputId": "d267c65f-ba90-4043-cedb-f468ab1bcc5d"
   },
   "outputs": [],
   "source": [
    "a = np.zeros((2,2))         # Erstellt einen Array bestehend aus Nullen (hier 2 x 2)\n",
    "print(a)"
   ]
  },
  {
   "cell_type": "code",
   "execution_count": null,
   "id": "8ec159a2-22f0-42a4-89c1-df27d2496f96",
   "metadata": {
    "colab": {
     "base_uri": "https://localhost:8080/",
     "height": 34
    },
    "colab_type": "code",
    "id": "skiKlNmlL9h5",
    "outputId": "7d1ec1b5-a1fe-4f44-cbe3-cdeacad425f1"
   },
   "outputs": [],
   "source": [
    "b = np.ones((1,2))          # Erstellt einen Array bestehend aus Einsen (hier 1 x 2)\n",
    "print(b)"
   ]
  },
  {
   "cell_type": "code",
   "execution_count": null,
   "id": "58764c5f-9b49-466b-9b33-2f7ab9d3f138",
   "metadata": {
    "colab": {
     "base_uri": "https://localhost:8080/",
     "height": 52
    },
    "colab_type": "code",
    "id": "HtFsr03bL9h7",
    "outputId": "2688b157-2fad-4fc6-f20b-8633207f0326"
   },
   "outputs": [],
   "source": [
    "c = np.full((2,2), 7)       # Erstellt einen Array bestehend aus der angegebenen Konstante (hier 7 mit Shape 2 x 2)\n",
    "print(c)"
   ]
  },
  {
   "cell_type": "code",
   "execution_count": null,
   "id": "27f5c493-4df5-46d7-bea0-6d3e7bdc0132",
   "metadata": {
    "colab": {
     "base_uri": "https://localhost:8080/",
     "height": 52
    },
    "colab_type": "code",
    "id": "-QcALHvkL9h9",
    "outputId": "5035d6fe-cb7e-4222-c972-55fe23c9d4c0"
   },
   "outputs": [],
   "source": [
    "d = np.eye(2)               # Erstellt die 2 x 2 Einheitsmatrix\n",
    "print(d)"
   ]
  },
  {
   "cell_type": "code",
   "execution_count": null,
   "id": "82fab360-f418-4db2-a016-3e4c9d31f7c5",
   "metadata": {
    "colab": {
     "base_uri": "https://localhost:8080/",
     "height": 52
    },
    "colab_type": "code",
    "id": "RCpaYg9qL9iA",
    "outputId": "25f0b387-39cf-42f3-8701-de860cc75e2e"
   },
   "outputs": [],
   "source": [
    "e = np.random.random((2,2)) # Erstellt einen Array mit zufälligen Werten (hier 2 x 2)\n",
    "print(e)"
   ]
  },
  {
   "cell_type": "markdown",
   "id": "a6c38e38-983a-4c9e-9d5e-88f50514fa33",
   "metadata": {
    "colab_type": "text",
    "id": "jI5qcSDfL9iC"
   },
   "source": [
    "### Array Indizierung\n",
    "\n",
    "In Numpy gibt es verschiedene Wege Arrays zu indizieren. \n",
    "\n",
    "Slicing: Ähnlich wie Python Listen können Numpy Arrays stückweise angesprochen werden. Da Arrays mehrere Dimensionen haben können, muss für jede Dimension der entsprechende Abschnitt angegeben werden:"
   ]
  },
  {
   "cell_type": "code",
   "execution_count": null,
   "id": "ea308b3e-afbc-41f2-a1e2-3612acda7283",
   "metadata": {
    "colab": {
     "base_uri": "https://localhost:8080/",
     "height": 52
    },
    "colab_type": "code",
    "id": "wLWA0udwL9iD",
    "outputId": "99f08618-c513-4982-8982-b146fc72dab3"
   },
   "outputs": [],
   "source": [
    "# Erstelle den folgenden Array mit Rank 2 und Shape (3, 4)\n",
    "# [[ 1  2  3  4]\n",
    "#  [ 5  6  7  8]\n",
    "#  [ 9 10 11 12]]\n",
    "a = np.array([[1,2,3,4], [5,6,7,8], [9,10,11,12]])\n",
    "\n",
    "# Wähle nun den Unterarray bestehend aus den ersten zwei reihein und Spalte 1 und 2.\n",
    "# b hat dann die Shape (2, 2):\n",
    "# [[2 3]\n",
    "#  [6 7]]\n",
    "b = a[:2, 1:3]\n",
    "print(b)"
   ]
  },
  {
   "cell_type": "markdown",
   "id": "ffa9fd10-f9aa-457b-858c-679b6bc2f441",
   "metadata": {
    "colab_type": "text",
    "id": "KahhtZKYL9iF"
   },
   "source": [
    "Ein so angesprochener Unterarray enthält dieselben Daten, d.h. ändert man Daten eines Unterarrays so ändert man die Daten des Ursprungsarrays."
   ]
  },
  {
   "cell_type": "code",
   "execution_count": null,
   "id": "9d76efff-1594-4e4d-b04a-b65516f57594",
   "metadata": {
    "colab": {
     "base_uri": "https://localhost:8080/",
     "height": 52
    },
    "colab_type": "code",
    "id": "1kmtaFHuL9iG",
    "outputId": "ee3ab60c-4064-4a9e-b04c-453d3955f1d1"
   },
   "outputs": [],
   "source": [
    "print(a[0, 1])\n",
    "b[0, 0] = 77    # b[0, 0] ist das Selbe wie a[0, 1]\n",
    "print(a[0, 1]) "
   ]
  },
  {
   "cell_type": "markdown",
   "id": "c260acc1-23ad-4495-bbe2-f2d40e401352",
   "metadata": {
    "colab_type": "text",
    "id": "_Zcf3zi-L9iI"
   },
   "source": [
    "Man kan auch Integer-Indizierung mit Slice-Indizierung mischen. Allerdings erhält man so einen Array niedrigeren Rangs als der originale Array. Man beachte, dass dies anders ist als die Slice-Indizierung bei Matlab:"
   ]
  },
  {
   "cell_type": "code",
   "execution_count": null,
   "id": "dfb470d1-6928-4f72-bca0-e2df3ad56b7c",
   "metadata": {
    "colab": {
     "base_uri": "https://localhost:8080/",
     "height": 69
    },
    "colab_type": "code",
    "id": "G6lfbPuxL9iJ",
    "outputId": "a225fe9d-2a29-4e14-a243-2b7d583bd4bc"
   },
   "outputs": [],
   "source": [
    "# Erstelle den folgenden Rank 2 Array mit Shape (3, 4)\n",
    "a = np.array([[1,2,3,4], [5,6,7,8], [9,10,11,12]])\n",
    "print(a)"
   ]
  },
  {
   "cell_type": "markdown",
   "id": "15b11198-33f4-4ff7-acea-ecd97991445a",
   "metadata": {
    "colab_type": "text",
    "id": "NCye3NXhL9iL"
   },
   "source": [
    "Two ways of accessing the data in the middle row of the array.\n",
    "Mixing integer indexing with slices yields an array of lower rank,\n",
    "while using only slices yields an array of the same rank as the\n",
    "original array:"
   ]
  },
  {
   "cell_type": "code",
   "execution_count": null,
   "id": "2de671f7-29e8-4dd5-9e00-d938b1d55186",
   "metadata": {
    "colab": {
     "base_uri": "https://localhost:8080/",
     "height": 69
    },
    "colab_type": "code",
    "id": "EOiEMsmNL9iL",
    "outputId": "ab2ebe48-9002-45a8-9462-fd490b467f40"
   },
   "outputs": [],
   "source": [
    "row_r1 = a[1, :]    # Rang 1 Sicht auf die zweite Reihe von a  \n",
    "row_r2 = a[1:2, :]  # Rang 2 Sicht auf die zweite Reihe von a\n",
    "row_r3 = a[[1], :]  # Rang 2 Sicht auf die zweite Reihe von a\n",
    "print(row_r1, row_r1.shape)\n",
    "print(row_r2, row_r2.shape)\n",
    "print(row_r3, row_r3.shape)"
   ]
  },
  {
   "cell_type": "markdown",
   "id": "46930398-50a8-4467-9ec8-b1ef45e95571",
   "metadata": {},
   "source": [
    "Wir sehen die gleiche Unterscheidung, wenn wir Spalten ansprechen:"
   ]
  },
  {
   "cell_type": "code",
   "execution_count": null,
   "id": "f8ee8482-d497-4977-8421-3624f3e47503",
   "metadata": {
    "colab": {
     "base_uri": "https://localhost:8080/",
     "height": 104
    },
    "colab_type": "code",
    "id": "JXu73pfDL9iN",
    "outputId": "6c589b85-e9b0-4c13-a39d-4cd9fb2f41ac"
   },
   "outputs": [],
   "source": [
    "col_r1 = a[:, 1]\n",
    "col_r2 = a[:, 1:2]\n",
    "print(col_r1, col_r1.shape)\n",
    "print()\n",
    "print(col_r2, col_r2.shape)"
   ]
  },
  {
   "cell_type": "markdown",
   "id": "e6eb28b5-ebe6-447c-a58a-8641d6a905e8",
   "metadata": {
    "colab_type": "text",
    "id": "VP3916bOL9iP"
   },
   "source": [
    "Integer Array Indizierung: Wenn man Slicing benutzt um Numpy Arrays zu indizieren ist das Ergebnis immer ein Unterarray des ursprünglichen Arrays. Im Gegensatz dazu kann man mit Integer Indizierung bleibige Arrays konstruieren, indem man Daten eines anderen Arrays verwendet:"
   ]
  },
  {
   "cell_type": "code",
   "execution_count": null,
   "id": "efb10df9-de0e-474c-b394-2d38197632d3",
   "metadata": {
    "colab": {
     "base_uri": "https://localhost:8080/",
     "height": 52
    },
    "colab_type": "code",
    "id": "TBnWonIDL9iP",
    "outputId": "c29fa2cd-234e-4765-c70a-6889acc63573"
   },
   "outputs": [],
   "source": [
    "a = np.array([[1,2], [3, 4], [5, 6]])\n",
    "\n",
    "# Beispiel für Integer Array Indizierung\n",
    "# Der Ergebnisarray hat Shape (3,)  \n",
    "print(a[[0, 1, 2], [0, 1, 0]])\n",
    "\n",
    "# Das obige Beispiel für Integer Array Indizierung ist äquivalent zu folgendem:\n",
    "print(np.array([a[0, 0], a[1, 1], a[2, 0]]))"
   ]
  },
  {
   "cell_type": "code",
   "execution_count": null,
   "id": "e77fc795-f482-4d94-bf3e-f8b0ac1de51a",
   "metadata": {
    "colab": {
     "base_uri": "https://localhost:8080/",
     "height": 52
    },
    "colab_type": "code",
    "id": "n7vuati-L9iR",
    "outputId": "c3e9ba14-f66e-4202-999e-2e1aed5bd631"
   },
   "outputs": [],
   "source": [
    "# Bei Integer Array Indizierung kann man das gleiche Element des Ursprungsarrays wiederverwenden:\n",
    "print(a[[0, 0], [1, 1]])\n",
    "\n",
    "# Äquivalent zum vorherigen Beispiel für Integer Array Indizierung\n",
    "print(np.array([a[0, 1], a[0, 1]]))"
   ]
  },
  {
   "cell_type": "markdown",
   "id": "a0c51608-5ddc-4991-b7b9-ac8d00f6845e",
   "metadata": {
    "colab_type": "text",
    "id": "kaipSLafL9iU"
   },
   "source": [
    "Ein nützlicher Trick mit Integer Array Indizierung ist das Auswählen oder Verändern eines Elemnts aus jeder Reihe einer Matrix:"
   ]
  },
  {
   "cell_type": "code",
   "execution_count": null,
   "id": "b382e7bc-ea00-4d7a-a72a-80799e2459ac",
   "metadata": {
    "colab": {
     "base_uri": "https://localhost:8080/",
     "height": 86
    },
    "colab_type": "code",
    "id": "ehqsV7TXL9iU",
    "outputId": "de509c40-4ee4-4b7c-e75d-1a936a3350e7"
   },
   "outputs": [],
   "source": [
    "# Erstelle einen neuen Array von welchem wir Elemente auswählen werden\n",
    "a = np.array([[1,2,3], [4,5,6], [7,8,9], [10, 11, 12]])\n",
    "print(a)"
   ]
  },
  {
   "cell_type": "code",
   "execution_count": null,
   "id": "f0c0c284-db4a-452f-a134-0dbc05bdd5ad",
   "metadata": {
    "colab": {
     "base_uri": "https://localhost:8080/",
     "height": 34
    },
    "colab_type": "code",
    "id": "pAPOoqy5L9iV",
    "outputId": "f812e29b-9218-4767-d3a8-e9854e754e68"
   },
   "outputs": [],
   "source": [
    "# Erstelle einen Array mit Indizes\n",
    "b = np.array([0, 2, 0, 1])\n",
    "\n",
    "# Wähle ein Element in jeder Reihe aus basierend auf dem Indexvektor b\n",
    "print(a[np.arange(4), b])  # Gibt \"[ 1  6  7 11]\" aus"
   ]
  },
  {
   "cell_type": "code",
   "execution_count": null,
   "id": "284c0f41-4b7e-4169-ba6d-b7e2430f9826",
   "metadata": {
    "colab": {
     "base_uri": "https://localhost:8080/",
     "height": 86
    },
    "colab_type": "code",
    "id": "6v1PdI1DL9ib",
    "outputId": "89f50f82-de1b-4417-e55c-edbc0ee07584"
   },
   "outputs": [],
   "source": [
    "# Verändere ein Element in jeder Reihe von a basierend auf den Indizes in b\n",
    "a[np.arange(4), b] += 10\n",
    "print(a)"
   ]
  },
  {
   "cell_type": "markdown",
   "id": "27620d97-dafd-46e0-a1d2-0e271d0bc663",
   "metadata": {
    "colab_type": "text",
    "id": "kaE8dBGgL9id"
   },
   "source": [
    "Boolean Array Indizierung: Boolean Array Indizierung ermöglicht es beliebige Elemente eines Arrays auszuwählen. Dies wird häufig genutzt um diejenigen Elemente eines Arrays auszuwählen welche einer Bedingung genügen. Hier ein Beispiel:"
   ]
  },
  {
   "cell_type": "code",
   "execution_count": null,
   "id": "5884130f-8dfc-4415-9a79-88de0667f28c",
   "metadata": {
    "colab": {
     "base_uri": "https://localhost:8080/",
     "height": 69
    },
    "colab_type": "code",
    "id": "32PusjtKL9id",
    "outputId": "8782e8ec-b78d-44d7-8141-23e39750b854"
   },
   "outputs": [],
   "source": [
    "a = np.array([[1,2], [3, 4], [5, 6]])\n",
    "\n",
    "bool_idx = (a > 2)  # Findet die Elemente von a, welche größer als 2 sind.\n",
    "                    # Hierdurch erhält man einen Numpy Array bestehend aus Booleans welcher die gleiche Shape hat wie a.\n",
    "                    # Hierbei sagt jeder Eintrag von bool_idx ob das entsprechende Element von a größer als 2 ist oder nicht.\n",
    "\n",
    "print(bool_idx)"
   ]
  },
  {
   "cell_type": "code",
   "execution_count": null,
   "id": "bdde3050-abc8-4c4e-b327-f0c5c0732f46",
   "metadata": {
    "colab": {
     "base_uri": "https://localhost:8080/",
     "height": 52
    },
    "colab_type": "code",
    "id": "cb2IRMXaL9if",
    "outputId": "5983f208-3738-472d-d6ab-11fe85b36c95"
   },
   "outputs": [],
   "source": [
    "# Boolean Array Indizierung kann genutzt werden, um einen Rang 1 Array zu erstellen,\n",
    "# welcher aus den Elementen von a besteht bei denen bool_idy den Wert True enthält\n",
    "print(a[bool_idx])\n",
    "\n",
    "# Das ganze können wir auch in einer Zeile machen\n",
    "print(a[a > 2])"
   ]
  },
  {
   "cell_type": "markdown",
   "id": "70976eac-1b7c-4db1-8789-1dd5e2564eff",
   "metadata": {
    "colab_type": "text",
    "id": "CdofMonAL9ih"
   },
   "source": [
    "Es gibt noch viele weitere Details über Numpy Array Indizierung. Dies lernt man am Besten durch anwenden, ausprobieren und nachschlagen in der entsprechenden Dokumentation."
   ]
  },
  {
   "cell_type": "markdown",
   "id": "91d92b45-5a98-478b-80c1-edbe5b1c4c51",
   "metadata": {
    "colab_type": "text",
    "id": "kSZQ1WkIL9ih"
   },
   "source": [
    "### Numpy Datentypen\n",
    "\n",
    "Jeder Numpy Array ist ein Gitter von Elementen desselben Datentyps. Numpy stellt viele numerische Datentypen zur Verfügung, welche für Arrays genutzt werden können. Wenn ein Array erstellt wird, versucht Numpy den passendsten Datentyp auszuwählen. Funktionen die Arrays erstellen haben in der Regel ein optionales Argument, über welches man den Datentyp explizit angeben kann."
   ]
  },
  {
   "cell_type": "code",
   "execution_count": null,
   "id": "f7cc4e65-51a3-42ec-a614-70860ffe07c0",
   "metadata": {
    "colab": {
     "base_uri": "https://localhost:8080/",
     "height": 34
    },
    "colab_type": "code",
    "id": "4za4O0m5L9ih",
    "outputId": "2ea4fb80-a4df-43f9-c162-5665895c13ae"
   },
   "outputs": [],
   "source": [
    "x = np.array([1, 2])  # Numpy wählt den Datentyp\n",
    "y = np.array([1.0, 2.0])  # Numpy wählt den Datentyp\n",
    "z = np.array([1, 2], dtype=np.int64)  # Datentyp explizit angeben\n",
    "\n",
    "print(x.dtype, y.dtype, z.dtype)"
   ]
  },
  {
   "cell_type": "markdown",
   "id": "333d87ea-e7e4-4e46-a982-d5256770823a",
   "metadata": {
    "colab_type": "text",
    "id": "RLVIsZQpL9ik"
   },
   "source": [
    "Mehr Informationen über Numpy Datentypen sind in der [Dokumentation](http://docs.scipy.org/doc/numpy/reference/arrays.dtypes.html) zu finden."
   ]
  },
  {
   "cell_type": "markdown",
   "id": "ef6e0fb4-d277-40c0-805c-3a8b08ecbb00",
   "metadata": {
    "colab_type": "text",
    "id": "TuB-fdhIL9ik"
   },
   "source": [
    "### Rechnen mit Arrays\n",
    "\n",
    "Auf Arrays angewendete grundlegende mathematische Funktionen operieren auf jedem Element gleichzeitig. Sie sind sowohl als Funktionen als auch als *Operator Overload* vorhanden.\n",
    "\n",
    "Beim *Operator Overloading* werden Operatoren unterschiedliche Bedeutungen zugewiesen je nachdem in welchem Kontext sie verwendet werden.  \n",
    "Der Operator `+` kann beispielsweise unter anderem dazu verwendet werden, um zwei Integers zu addieren oder zwei Strings zu verknüpfen oder auch zwei Listen zusammenzufügen. Dies geschieht, da der Operator `+` durch die jeweilige Klasse (int, str, etc.) überladen wird."
   ]
  },
  {
   "cell_type": "code",
   "execution_count": null,
   "id": "a6cfad3c-3feb-44fd-bf9c-3e4040340c09",
   "metadata": {
    "colab": {
     "base_uri": "https://localhost:8080/",
     "height": 86
    },
    "colab_type": "code",
    "id": "gHKvBrSKL9il",
    "outputId": "a8a924b1-9d60-4b68-8fd3-e4657ae3f08b"
   },
   "outputs": [],
   "source": [
    "x = np.array([[1,2],[3,4]], dtype=np.float64)\n",
    "y = np.array([[5,6],[7,8]], dtype=np.float64)\n",
    "\n",
    "# Elementweise Summe; beide Anweisungen erstellen den entsprechenden Array\n",
    "print(x + y)\n",
    "print(np.add(x, y))"
   ]
  },
  {
   "cell_type": "markdown",
   "id": "bcdcffdc-3baf-4bb4-b461-7fc1151c4aa6",
   "metadata": {},
   "source": [
    "Gleiches gilt für die anderen üblichen Rechenarten:"
   ]
  },
  {
   "cell_type": "code",
   "execution_count": null,
   "id": "8af46218-de3a-41dc-81d9-145dc0aa9fd2",
   "metadata": {
    "colab": {
     "base_uri": "https://localhost:8080/",
     "height": 86
    },
    "colab_type": "code",
    "id": "1fZtIAMxL9in",
    "outputId": "122f1380-6144-4d6c-9d31-f62d839889a2"
   },
   "outputs": [],
   "source": [
    "# Elementweise Differenz\n",
    "print(x - y)\n",
    "print(np.subtract(x, y))"
   ]
  },
  {
   "cell_type": "code",
   "execution_count": null,
   "id": "f520742d-762e-42b2-b5f9-39161ee028f1",
   "metadata": {
    "colab": {
     "base_uri": "https://localhost:8080/",
     "height": 86
    },
    "colab_type": "code",
    "id": "nil4AScML9io",
    "outputId": "038c8bb2-122b-4e59-c0a8-a091014fe68e"
   },
   "outputs": [],
   "source": [
    "# Elementweises Produkt\n",
    "print(x * y)\n",
    "print(np.multiply(x, y))"
   ]
  },
  {
   "cell_type": "code",
   "execution_count": null,
   "id": "7ae4a9ec-5ba1-47bd-a207-3b0068716828",
   "metadata": {
    "colab": {
     "base_uri": "https://localhost:8080/",
     "height": 86
    },
    "colab_type": "code",
    "id": "0JoA4lH6L9ip",
    "outputId": "12351a74-7871-4bc2-97ce-a508bf4810da"
   },
   "outputs": [],
   "source": [
    "# Elementweise Division\n",
    "print(x / y)\n",
    "print(np.divide(x, y))"
   ]
  },
  {
   "cell_type": "code",
   "execution_count": null,
   "id": "9564ed3b-6c72-4d62-9fe1-4252e9d7d53e",
   "metadata": {
    "colab": {
     "base_uri": "https://localhost:8080/",
     "height": 52
    },
    "colab_type": "code",
    "id": "g0iZuA6bL9ir",
    "outputId": "29927dda-4167-4aa8-fbda-9008b09e4356"
   },
   "outputs": [],
   "source": [
    "# Elementweise Wurzel ziehen\n",
    "print(np.sqrt(x))"
   ]
  },
  {
   "cell_type": "markdown",
   "id": "544db036-c0d9-439e-8bcc-8428fc37d46c",
   "metadata": {
    "colab_type": "text",
    "id": "a5d_uujuL9it"
   },
   "source": [
    "Im Vergleich zu MATLAB veranlasst `*` in Python elementweise Multiplikation und **keine** Matrixmultiplikation.  \n",
    "Stattdessen nutzen wir die `dot` Funktion um (innere) Produkte von Vektoren, Matrix-Vektor-Multiplikationen oder Produkte von Matrizen zu berechnen.\n",
    "\n",
    "`dot` ist sowohl als Funktion des Numpy Moduls als auch als Instanzmethode von Array Objekten verfügbar:"
   ]
  },
  {
   "cell_type": "code",
   "execution_count": null,
   "id": "7be5a407-a293-42df-8816-2aa1752eb98b",
   "metadata": {
    "colab": {
     "base_uri": "https://localhost:8080/",
     "height": 52
    },
    "colab_type": "code",
    "id": "I3FnmoSeL9iu",
    "outputId": "46f4575a-2e5e-4347-a34e-0cc5bd280110"
   },
   "outputs": [],
   "source": [
    "v = np.array([9,10])\n",
    "w = np.array([11, 12])\n",
    "\n",
    "# Produkt von Vektoren\n",
    "print(v.dot(w))\n",
    "print(np.dot(v, w))"
   ]
  },
  {
   "cell_type": "markdown",
   "id": "ce347634-94cc-4eff-ade7-dc1bff4d968c",
   "metadata": {
    "colab_type": "text",
    "id": "vmxPbrHASVeA"
   },
   "source": [
    "Es ist auch möglich den `@` Operator zu verwenden, welcher äquivalent zu Numpys `dot` Operator ist."
   ]
  },
  {
   "cell_type": "code",
   "execution_count": null,
   "id": "35c73176-2123-42b0-8e72-3bccdd2c037a",
   "metadata": {
    "colab": {
     "base_uri": "https://localhost:8080/",
     "height": 34
    },
    "colab_type": "code",
    "id": "vyrWA-mXSdtt",
    "outputId": "a9aae545-2c93-4649-b220-b097655955f6"
   },
   "outputs": [],
   "source": [
    "print(v @ w)"
   ]
  },
  {
   "cell_type": "code",
   "execution_count": null,
   "id": "6c625f2f-a49e-4b63-bb8b-6d6bacee7009",
   "metadata": {
    "colab": {
     "base_uri": "https://localhost:8080/",
     "height": 69
    },
    "colab_type": "code",
    "id": "zvUODeTxL9iw",
    "outputId": "4093fc76-094f-4453-a421-a212b5226968"
   },
   "outputs": [],
   "source": [
    "# Matrix-Vektor-Produkt\n",
    "print(x.dot(v))\n",
    "print(np.dot(x, v))\n",
    "print(x @ v)"
   ]
  },
  {
   "cell_type": "code",
   "execution_count": null,
   "id": "9ead0530-5b80-45f8-bfe9-ee0c215a2bb1",
   "metadata": {
    "colab": {
     "base_uri": "https://localhost:8080/",
     "height": 121
    },
    "colab_type": "code",
    "id": "3V_3NzNEL9iy",
    "outputId": "af2a89f9-af5d-47a6-9ad2-06a84b521b94"
   },
   "outputs": [],
   "source": [
    "# Matrix-Matrix-Produkt\n",
    "print(x.dot(y))\n",
    "print(np.dot(x, y))\n",
    "print(x @ y)"
   ]
  },
  {
   "cell_type": "markdown",
   "id": "b04ddf3b-2f2b-4364-ae75-94a2552e25e9",
   "metadata": {
    "colab_type": "text",
    "id": "FbE-1If_L9i0"
   },
   "source": [
    "Numpy stellt viele nützliche Funktionen zur Verfügung, um mit Arrays zu rechnen. Eine der nützlichsten ist `sum`:"
   ]
  },
  {
   "cell_type": "code",
   "execution_count": null,
   "id": "8e018a79-e850-43e7-a41b-c45c6ea41848",
   "metadata": {
    "colab": {
     "base_uri": "https://localhost:8080/",
     "height": 69
    },
    "colab_type": "code",
    "id": "DZUdZvPrL9i0",
    "outputId": "99cad470-d692-4b25-91c9-a57aa25f4c6e"
   },
   "outputs": [],
   "source": [
    "print(x)\n",
    "print()\n",
    "print(np.sum(x))          # Berechnet die Summe aller Elemente\n",
    "print(np.sum(x, axis=0))  # Berechnet die Summe von jeder Spalte\n",
    "print(np.sum(x, axis=1))  # Berechnet die Summe von jeder Reihe"
   ]
  },
  {
   "cell_type": "markdown",
   "id": "cef14dce-6022-465c-a162-7fa7611e0671",
   "metadata": {
    "colab_type": "text",
    "id": "ahdVW4iUL9i3"
   },
   "source": [
    "Weitere mathematische Funktionen, welche durch Numpy zur Verfügung gestellt werden, sind in der [Dokumentation](http://docs.scipy.org/doc/numpy/reference/routines.math.html) zu finden.\n",
    "\n",
    "Neben der Berechnung mathematischer Funktionen basierend auf Arrays muss man Arrays häufig umformen (`reshape`) oder anderweitig manipulieren. Das einfachste Beispiel dieser Operationen ist das Transponieren einer Matrix. Um eine Matrix zu transponieren kann einfach das `T` Attribut des Arrays verwendet werden:"
   ]
  },
  {
   "cell_type": "code",
   "execution_count": null,
   "id": "aa11f93e-8671-4c93-ac00-f4b7158f7a3e",
   "metadata": {
    "colab": {
     "base_uri": "https://localhost:8080/",
     "height": 104
    },
    "colab_type": "code",
    "id": "63Yl1f3oL9i3",
    "outputId": "c75ac7ba-4351-42f8-a09c-a4e0d966ab50"
   },
   "outputs": [],
   "source": [
    "print(x)\n",
    "print(\"transponieren\\n\", x.T)"
   ]
  },
  {
   "cell_type": "code",
   "execution_count": null,
   "id": "4862d9df-a6b6-4aba-ad9d-57a3f357143c",
   "metadata": {
    "colab": {
     "base_uri": "https://localhost:8080/",
     "height": 104
    },
    "colab_type": "code",
    "id": "mkk03eNIL9i4",
    "outputId": "499eec5a-55b7-473a-d4aa-9d023d63885a"
   },
   "outputs": [],
   "source": [
    "v = np.array([[1,2,3]])\n",
    "print(v )\n",
    "print(\"transponieren\\n\", v.T)"
   ]
  },
  {
   "cell_type": "markdown",
   "id": "19327280-a549-4ab0-ac4a-a654d14603bd",
   "metadata": {
    "colab_type": "text",
    "id": "EygGAMWqL9i7"
   },
   "source": [
    "### Broadcasting\n",
    "\n",
    "Bis jetzt hatten unsere Arrays immer die gleiche Shape, wenn wir mathematische Operatoren (`+`, `-`, `*`, etc.) auf sie angewendet haben.\n",
    "\n",
    "*Broadcasting* ist ein mächtiger Mechanismus von Numpy, welcher die Möglichkeit bietet, mathematische Operatoren auch auf Arrays unterschiedlicher Shape anzuwenden. Oft wollen wir einen kleineren Array mehrfach verwenden, um eine Operation auf dem größeren Array auszuführen.\n",
    "Hierfür wird der kleinere Array entweder in eine passende Form transformiert oder mehrfach auf den größeren Array angewendet. \n",
    "Es erfolgt also ein *Broadcast* des kleineren Arrays, bis er die gleiche Shape hat wie der größere Array.\n",
    "\n",
    "Als Beispiel nehmen wir an, dass wir einen konstanten Vektor zu jeder Reihe einer Matrix hinzufügen wollen. Dies könnte wie folgt passieren:"
   ]
  },
  {
   "cell_type": "code",
   "execution_count": null,
   "id": "b041fc7b-cf8b-4277-bf35-033f5706366c",
   "metadata": {
    "colab": {
     "base_uri": "https://localhost:8080/",
     "height": 86
    },
    "colab_type": "code",
    "id": "WEEvkV1ZL9i7",
    "outputId": "3896d03c-3ece-4aa8-f675-aef3a220574d"
   },
   "outputs": [],
   "source": [
    "# Addsieren des Vektors v zu jeder Reihe der Matrix x\n",
    "# Das Ergebnis wird in y gespeichert\n",
    "x = np.array([[1,2,3], [4,5,6], [7,8,9], [10, 11, 12]])\n",
    "v = np.array([1, 0, 1])\n",
    "y = np.empty_like(x)   # Erstelle eine leere Matrix mit der gleichen Shape wie x\n",
    "\n",
    "# Addiere den Vektor v zu jeder Reihe der Matrix x mit einer expliziten Schleife\n",
    "for i in range(4):\n",
    "    y[i, :] = x[i, :] + v\n",
    "\n",
    "print(y)"
   ]
  },
  {
   "cell_type": "markdown",
   "id": "d76a385f-bf27-441e-967e-1c9d2ac13a13",
   "metadata": {
    "colab_type": "text",
    "id": "2OlXXupEL9i-"
   },
   "source": [
    "Dies funktioniert. Wenn jedoch x sehr groß ist, könnte solch eine explizite Schleife in Python sehr langsam werden.\n",
    "\n",
    "Möchte man den Vektor v zu jeder Reihe der Matrix x addieren, so ist dies äquivalent dazu eine Matrix vv zu erstellen indem man mehrere Kopien von v vertikal übereinander schreibt (*stacking*) und schließlich die elementweise Summation von x und vv verwendet:"
   ]
  },
  {
   "cell_type": "code",
   "execution_count": null,
   "id": "b979f08b-62ca-4ed0-b50a-c48722033ea9",
   "metadata": {
    "colab": {
     "base_uri": "https://localhost:8080/",
     "height": 86
    },
    "colab_type": "code",
    "id": "vS7UwAQQL9i-",
    "outputId": "8621e502-c25d-4a18-c973-886dbfd1df36"
   },
   "outputs": [],
   "source": [
    "vv = np.tile(v, (4, 1))  # Schreibe 4 Kopien von v übereinander\n",
    "print(vv)\n",
    "\n",
    "y = x + vv  # Addiert x and vv elementweise\n",
    "print(y)"
   ]
  },
  {
   "cell_type": "markdown",
   "id": "8875554d-1fd8-4b76-b35d-153509296e4b",
   "metadata": {
    "colab_type": "text",
    "id": "zHos6RJnL9jB"
   },
   "source": [
    "Wir können also mit *Broadcasting* Schleifen vermeiden. Die Schleifenbildung findet stattdessen im Hintergrund in der Numpy-Implementierung statt, d.h. in C, was deutlich schneller ist als explizite Schleifen in Python.  \n",
    "Numpy erlaubt uns diese Operationen durchzuführen, ohne explizite Kopien von v zu erstellen.\n",
    "\n",
    "Schauen wir uns folgende Version des Boradcastings an:"
   ]
  },
  {
   "cell_type": "code",
   "execution_count": null,
   "id": "1b3a6d7a-c566-46d7-a876-072a51fdc456",
   "metadata": {
    "colab": {
     "base_uri": "https://localhost:8080/",
     "height": 86
    },
    "colab_type": "code",
    "id": "vnYFb-gYL9jC",
    "outputId": "df3bea8a-ad72-4a83-90bb-306b55c6fb93"
   },
   "outputs": [],
   "source": [
    "# Addition des Vektors v zu jeder Reihe der Matrix x,\n",
    "# y speichert das Ergebnis\n",
    "x = np.array([[1,2,3], [4,5,6], [7,8,9], [10, 11, 12]])\n",
    "v = np.array([1, 0, 1])\n",
    "y = x + v       # Addiert v zu jeder Reihe von x unter Verwendung von Broadcasting\n",
    "print(y)"
   ]
  },
  {
   "cell_type": "markdown",
   "id": "9d291b61-35c7-4e77-ad72-185f5fc8c81b",
   "metadata": {
    "colab_type": "text",
    "id": "08YyIURKL9jH"
   },
   "source": [
    "Die Zeile `y = x + v` funktioniert dank *Broadcasting* obwohl x die Shape (4, 3) und v die Shape (3,) hat. Die Zeile wird ausgeführt als hätte v tatsächlich die Shape (4, 3), bei dem jede Reihe eine Kopie von v wäre und die Summe elementweise ausgeführt worden wäre.\n",
    "\n",
    "Regeln fürs *Broadcasting* zweier Arrays:\n",
    "\n",
    "1. Wenn die Arrays nicht den gleichen Rang haben, stellt Numpy der Shape des Arrays mit dem niedrigeren Rang so lange einsen voran bis beide Shapes die gleiche Länge haben.\n",
    "2. Zwei Arrays heißen *kompatibel in einer Dimension*, wenn sie in der Dimension die gleiche größe haben oder wenn einer der Arrays die Größe 1 in der Dimension hat.\n",
    "3. Die Arrays können durch *Broadcasting* kombiniert werden, wenn sie in allen Dimensionen kompatibel sind.\n",
    "4. Nach dem *Broadcasting* verhält sich jeder Array so, als ob er die gleiche Shape hätte wie das elementweise Maximum der Shapes der zwei Eingnagsarrays.\n",
    "5. In jeder Dimension in der ein Array die Größe 1 hat und der andere Array eine Größe größer als 1 verhält sich der erste Array als ob er entlang dieser Dimension kopiert worden wäre.\n",
    "\n",
    "Zusätzlich kann zum Thema *Broadcasting* die entsprechende [Dokumentation](http://docs.scipy.org/doc/numpy/user/basics.broadcasting.html) zu Rate gezogen werden.\n",
    "\n",
    "Funktionen, welche Broadcasting unterstüzen, nennt man auch universelle Funktionen. Eine Liste universeller Funktionen ist in der [Dokumentation](http://docs.scipy.org/doc/numpy/reference/ufuncs.html#available-ufuncs) zu finden.\n",
    "\n",
    "Nachfolgend sind einige Anwendungen von *Broadcasting* gelistet:"
   ]
  },
  {
   "cell_type": "code",
   "execution_count": null,
   "id": "d263fd6f-edf9-48cf-83d1-e6cb72ab6b75",
   "metadata": {
    "colab": {
     "base_uri": "https://localhost:8080/",
     "height": 69
    },
    "colab_type": "code",
    "id": "EmQnwoM9L9jH",
    "outputId": "f59e181e-e2d4-416c-d094-c4d003ce8509"
   },
   "outputs": [],
   "source": [
    "# Berechne das äußere Produkt von Vektoren\n",
    "# Das äußere Produkt zweier Zeilenvektoren ist äquivalent zu der\n",
    "# Matrixmultiplikation u^T * v \n",
    "v = np.array([1,2,3])  # v hat Shape (3,)\n",
    "w = np.array([4,5])    # w hat Shape (2,)\n",
    "# Um das äußere Produktzu berechnen, formt man v in einen Spaltenvektor\n",
    "# der Shape (3, 1) um. Dan kann es durch Broadcasting mit w multipliziert werden\n",
    "#  um ein Ergebnis der Shape (3, 2) zu erhalten, welches dem äußeren Produkt von v und w entspricht\n",
    "\n",
    "print(np.reshape(v, (3, 1)) * w)"
   ]
  },
  {
   "cell_type": "code",
   "execution_count": null,
   "id": "911db3e1-fc92-4fdd-9ea0-5e3f515e086c",
   "metadata": {
    "colab": {
     "base_uri": "https://localhost:8080/",
     "height": 52
    },
    "colab_type": "code",
    "id": "PgotmpcnL9jK",
    "outputId": "567763d3-073a-4e3c-9ebe-6c7d2b6d3446"
   },
   "outputs": [],
   "source": [
    "# Addiere einen Vektor zu jeder Reihe einer Matrix\n",
    "x = np.array([[1,2,3], [4,5,6]])\n",
    "# x hat Shape (2, 3) und v hat Shape (3,) \n",
    "# Die  das Ergebnis der Addition hat somit Shape (2, 3),\n",
    "\n",
    "print(x + v)"
   ]
  },
  {
   "cell_type": "code",
   "execution_count": null,
   "id": "8070441a-a3e3-4ab9-a208-276d83b7b09d",
   "metadata": {
    "colab": {
     "base_uri": "https://localhost:8080/",
     "height": 52
    },
    "colab_type": "code",
    "id": "T5hKS1QaL9jK",
    "outputId": "5f14ac5c-7a21-4216-e91d-cfce5720a804"
   },
   "outputs": [],
   "source": [
    "# Addiere einen Vektor zu jeder Spalte einer Matrix\n",
    "# x hat Shape (2, 3) und w hat Shape (2,).\n",
    "# Treansponiert man x dann hat es Shape (3, 2) und kann mit broadcasting\n",
    "# zu w addiert werden, was in einer Matrix der Shape (3, 2) resultiert.\n",
    "# Transponiert man das Ergebnis erneut erhält man das finale Ergebnis der Shape (2, 3)\n",
    "\n",
    "print((x.T + w).T)"
   ]
  },
  {
   "cell_type": "code",
   "execution_count": null,
   "id": "72ba4a00-043a-4a76-90b2-b93d7c46395f",
   "metadata": {
    "colab": {
     "base_uri": "https://localhost:8080/",
     "height": 52
    },
    "colab_type": "code",
    "id": "JDUrZUl6L9jN",
    "outputId": "53e99a89-c599-406d-9fe3-7aa35ae5fb90"
   },
   "outputs": [],
   "source": [
    "# Eine andere Lösung wäre w in einen Zeilenvektor der Shape (2, 1) umzuformen.\n",
    "# Dann kann man es direkt durch broadcasting zu x addieren \n",
    "\n",
    "print(x + np.reshape(w, (2, 1)))"
   ]
  },
  {
   "cell_type": "code",
   "execution_count": null,
   "id": "990277e0-c503-46fb-8c7d-7f2df3a32847",
   "metadata": {
    "colab": {
     "base_uri": "https://localhost:8080/",
     "height": 52
    },
    "colab_type": "code",
    "id": "VzrEo4KGL9jP",
    "outputId": "53c9d4cc-32d5-46b0-d090-53c7db57fb32"
   },
   "outputs": [],
   "source": [
    "# Multiplikation einer Matrix mit einer Konstanten:\n",
    "# x hat Shape (2, 3). Numpy behandeölt Skalare als Arrays der Shape ().\n",
    "# So können Matrizen via Broadcasting mit Skalaren multipliziert werden\n",
    "print(x * 2)"
   ]
  },
  {
   "cell_type": "markdown",
   "id": "f7b2e447-6775-4df2-a165-ebd092936d90",
   "metadata": {
    "colab_type": "text",
    "id": "iF3ZtwVNL9jQ"
   },
   "source": [
    "*Broadcasting* macht code normalerweise schneller und kürzer und sollte daher wann immer möglich genuzt werden.\n",
    "\n",
    "Für weitere Informationen über Numpy kann man [Numpy Referenz](http://docs.scipy.org/doc/numpy/reference/) zu Rate ziehen."
   ]
  },
  {
   "cell_type": "markdown",
   "id": "2da47924-0a6d-4477-833f-b5079fed3cc6",
   "metadata": {
    "colab_type": "text",
    "id": "0hgVWLaXL9jR"
   },
   "source": [
    "## Matplotlib\n",
    "\n",
    "Matplotlib ist eine Bibliothek zum Plotten von Daten. Nachfolgend behandeln wir eine kurze Einführung in das Modul `matplotlib.pyplot`, welches ein Plot-System ähnlich zu dem von MATLAB zur Verfügung stellt.\n",
    "\n",
    "Hierfür müssen wir das entsprechende Modul importieren:"
   ]
  },
  {
   "cell_type": "code",
   "execution_count": null,
   "id": "5628a779-f4e8-4ddf-81de-a0fb8e59ea3d",
   "metadata": {
    "colab": {},
    "colab_type": "code",
    "id": "cmh_7c6KL9jR"
   },
   "outputs": [],
   "source": [
    "import matplotlib.pyplot as plt"
   ]
  },
  {
   "cell_type": "markdown",
   "id": "175c0be8-1dbc-41f1-9c9c-4e74efbb62a4",
   "metadata": {
    "colab_type": "text",
    "id": "jOsaA5hGL9jS"
   },
   "source": [
    "In dem wir den nachfolgenden Befehl ausführen, werden die Plots direkt im Jupyter Notebook angezeigt."
   ]
  },
  {
   "cell_type": "code",
   "execution_count": null,
   "id": "cd0f105a-41da-4992-a543-6f3180ce5ed7",
   "metadata": {
    "colab": {},
    "colab_type": "code",
    "id": "ijpsmwGnL9jT"
   },
   "outputs": [],
   "source": [
    "%matplotlib inline"
   ]
  },
  {
   "cell_type": "markdown",
   "id": "0cd5567b-03d9-45ba-b851-b17564de81eb",
   "metadata": {
    "colab_type": "text",
    "id": "6QyFJ7dhL9jV"
   },
   "source": [
    "### Plotting\n",
    "\n",
    "Die wichtigste Funktion in `matplotlib` ist `plot`, durch welche zweidimensionale Daten in ein Koordinatensystem geplottet werden können.\n",
    "\n",
    "Hier ein einfaches Beispiel:"
   ]
  },
  {
   "cell_type": "code",
   "execution_count": null,
   "id": "81068eef-392e-4dc2-83ea-f38d3f33d87e",
   "metadata": {
    "colab": {
     "base_uri": "https://localhost:8080/",
     "height": 282
    },
    "colab_type": "code",
    "id": "pua52BGeL9jW",
    "outputId": "9ac3ee0f-7ff7-463b-b901-c33d21a2b10c"
   },
   "outputs": [],
   "source": [
    "# Berechne die x und y Koordinaten für Punkte auf einer Sinuskurve\n",
    "x = np.arange(0, 3 * np.pi, 0.1)\n",
    "y = np.sin(x)\n",
    "\n",
    "# Plotte die Punkte mit matplotlib\n",
    "plt.plot(x, y)"
   ]
  },
  {
   "cell_type": "markdown",
   "id": "65533617-6cd9-4e3e-809c-054e25d5c3c6",
   "metadata": {
    "colab_type": "text",
    "id": "9W2VAcLiL9jX"
   },
   "source": [
    "Mit ein paar zusätzlichen Befehlen können wir mehrere Linien auf einmal plotten und außerdem einen Titel, eine Legende und Achsenbeschriftung hinzufügen."
   ]
  },
  {
   "cell_type": "code",
   "execution_count": null,
   "id": "3730ea8b-0032-4eda-807e-3821671bac48",
   "metadata": {
    "colab": {
     "base_uri": "https://localhost:8080/",
     "height": 312
    },
    "colab_type": "code",
    "id": "TfCQHJ5AL9jY",
    "outputId": "fdb9c033-0f06-4041-a69d-a0f3a54c7206"
   },
   "outputs": [],
   "source": [
    "y_sin = np.sin(x)\n",
    "y_cos = np.cos(x)\n",
    "\n",
    "# Plotte die Punkte mit matplotlib\n",
    "plt.plot(x, y_sin)\n",
    "plt.plot(x, y_cos)\n",
    "plt.xlabel('x-Achsenbeschriftung')\n",
    "plt.ylabel('y-Achsenbeschriftung')\n",
    "plt.title('Sinus und Cosinus')\n",
    "plt.legend(['Sinus', 'Cosinus'])"
   ]
  },
  {
   "cell_type": "markdown",
   "id": "9fbc8b43-d3a0-497c-8dba-3a8709af20dd",
   "metadata": {
    "colab_type": "text",
    "id": "CfUzwJg0L9ja"
   },
   "source": [
    "### Subplots \n",
    "\n",
    "Ähnlich wie in Matlab kann man mit der `subplot` Funktion unterschiedliche Dinge in dieselbe Figure plotten.\n",
    "\n",
    "Hier ein Beispiel:"
   ]
  },
  {
   "cell_type": "code",
   "execution_count": null,
   "id": "4b359f25-5d9b-4d57-b00b-25bafdf6820d",
   "metadata": {
    "colab": {
     "base_uri": "https://localhost:8080/",
     "height": 281
    },
    "colab_type": "code",
    "id": "dM23yGH9L9ja",
    "outputId": "14dfa5ea-f453-4da5-a2ee-fea0de8f72d9"
   },
   "outputs": [],
   "source": [
    "# Berechne die x und y Koordinaten für Punkte auf der Sinus- und Cosinuskurve\n",
    "x = np.arange(0, 3 * np.pi, 0.1)\n",
    "y_sin = np.sin(x)\n",
    "y_cos = np.cos(x)\n",
    "\n",
    "# Initialisiere ein Subplot-Gitter, welches Höhe 2 und Breite 1 hat\n",
    "# und aktiviere den ersten Subplot\n",
    "plt.subplot(2, 1, 1)\n",
    "\n",
    "# Mache den ersten Plot\n",
    "plt.plot(x, y_sin)\n",
    "plt.title('Sinus')\n",
    "\n",
    "# Aktiviere den zweiten Subplot und mache den zweiten Plot\n",
    "plt.subplot(2, 1, 2)\n",
    "plt.plot(x, y_cos)\n",
    "plt.title('Cosinus')\n",
    "\n",
    "# Zeige die Figure\n",
    "plt.show()"
   ]
  },
  {
   "cell_type": "markdown",
   "id": "425bc353-d721-4a09-b6e0-6af473d3275d",
   "metadata": {
    "colab_type": "text",
    "id": "gLtsST5SL9jc"
   },
   "source": [
    "Mehr Informationen über die `subplot` Funktion ist in der [Dokumentation](http://matplotlib.org/api/pyplot_api.html#matplotlib.pyplot.subplot) zu finden."
   ]
  },
  {
   "cell_type": "code",
   "execution_count": null,
   "id": "7445d005-cd2f-4ed8-bc62-c4cf3c541adb",
   "metadata": {},
   "outputs": [],
   "source": []
  }
 ],
 "metadata": {
  "kernelspec": {
   "display_name": "Python 3",
   "language": "python",
   "name": "python3"
  },
  "language_info": {
   "codemirror_mode": {
    "name": "ipython",
    "version": 3
   },
   "file_extension": ".py",
   "mimetype": "text/x-python",
   "name": "python",
   "nbconvert_exporter": "python",
   "pygments_lexer": "ipython3",
   "version": "3.8.10"
  }
 },
 "nbformat": 4,
 "nbformat_minor": 5
}
